{
 "cells": [
  {
   "cell_type": "code",
   "execution_count": 1,
   "id": "3b5e1d11-7631-4b25-8075-20a115298c56",
   "metadata": {},
   "outputs": [],
   "source": [
    "#Importing necessary modules\n",
    "import numpy as np\n",
    "import tensorflow as tf\n",
    "from tensorflow.keras.applications import ResNet50\n",
    "from tensorflow.keras.models import Model\n",
    "from tensorflow.keras.layers import Input, GlobalAveragePooling2D, Dense, Dropout, BatchNormalization\n",
    "from tensorflow.keras.preprocessing.image import ImageDataGenerator\n",
    "from sklearn.metrics import classification_report, confusion_matrix\n",
    "import matplotlib.pyplot as plt"
   ]
  },
  {
   "cell_type": "code",
   "execution_count": 2,
   "id": "fc0d7b5b-a273-49ba-868f-e46b1b1be38c",
   "metadata": {},
   "outputs": [],
   "source": [
    "# Loading data\n",
    "data = np.load(r\"C:\pneumoniamnist.npz\")\n",
    "train_images, train_labels = data['train_images'], data['train_labels']\n",
    "val_images, val_labels = data['val_images'], data['val_labels']\n",
    "test_images, test_labels = data['test_images'], data['test_labels']"
   ]
  },
  {
   "cell_type": "code",
   "execution_count": 4,
   "id": "e6f9c4b2-a8b5-49c8-adb3-78335035effc",
   "metadata": {},
   "outputs": [],
   "source": [
    "# Preprocessing of images\n",
    "def preprocess(images):\n",
    "    images = np.expand_dims(images, axis=-1)  # (N, 28, 28, 1)\n",
    "    images_resized = tf.image.resize(images, (224, 224))  # NOW works with tensors\n",
    "    images_rgb = tf.image.grayscale_to_rgb(images_resized)  # (N, 224, 224, 3)\n",
    "    return images_rgb / 255.0\n",
    "\n",
    "train_images = preprocess(train_images)\n",
    "val_images = preprocess(val_images)\n",
    "test_images = preprocess(test_images)"
   ]
  },
  {
   "cell_type": "code",
   "execution_count": 13,
   "id": "d83b3e77-3af6-40b7-ae62-d4497e04b590",
   "metadata": {},
   "outputs": [
    {
     "name": "stdout",
     "output_type": "stream",
     "text": [
      "Class weights: {0: np.float64(5.002577319587629), 1: np.float64(0.5555237550085862)}\n"
     ]
    }
   ],
   "source": [
    "from sklearn.utils.class_weight import compute_class_weight\n",
    "\n",
    "# Flatten to 1D and ensure type is int\n",
    "train_labels_flat = train_labels.flatten().astype(int)\n",
    "\n",
    "class_weights = compute_class_weight(\n",
    "    class_weight='balanced',\n",
    "    classes=np.unique(train_labels_flat),\n",
    "    y=train_labels_flat\n",
    ")\n",
    "class_weight_dict = dict(enumerate(class_weights))\n",
    "\n",
    "print(\"Class weights:\", class_weight_dict)\n"
   ]
  },
  {
   "cell_type": "code",
   "execution_count": 5,
   "id": "e72c7e31-93f1-47be-9907-f534a4be9d83",
   "metadata": {},
   "outputs": [],
   "source": [
    "# Data augmentation\n",
    "train_datagen = ImageDataGenerator(\n",
    "    rotation_range=10,\n",
    "    zoom_range=0.1,\n",
    "    horizontal_flip=True\n",
    ")\n",
    "val_datagen = ImageDataGenerator()\n",
    "\n",
    "train_generator = train_datagen.flow(train_images, train_labels, batch_size=32)\n",
    "val_generator = val_datagen.flow(val_images, val_labels, batch_size=32)\n",
    "\n",
    "# Handle class imbalance\n",
    "class_weights = {0: 5.002577319587629, 1: 0.5555237550085862}"
   ]
  },
  {
   "cell_type": "code",
   "execution_count": 6,
   "id": "accb391d-fde9-4b18-afda-9148018a843e",
   "metadata": {},
   "outputs": [],
   "source": [
    "# Building ResNet-50 model\n",
    "def build_model():\n",
    "    input_layer = Input(shape=(224, 224, 3))\n",
    "    base_model = ResNet50(include_top=False, weights='imagenet', input_tensor=input_layer)\n",
    "    base_model.trainable = False  # Freeze for feature extraction\n",
    "\n",
    "    x = base_model.output\n",
    "    x = GlobalAveragePooling2D()(x)\n",
    "    x = BatchNormalization()(x)\n",
    "    x = Dense(256, activation='relu')(x)\n",
    "    x = Dropout(0.5)(x)\n",
    "    x = Dense(64, activation='relu')(x)\n",
    "    x = Dropout(0.3)(x)\n",
    "    output = Dense(1, activation='sigmoid')(x)\n",
    "\n",
    "    model = Model(inputs=input_layer, outputs=output)\n",
    "    return model, base_model\n",
    "\n"
   ]
  },
  {
   "cell_type": "code",
   "execution_count": 7,
   "id": "bf68a387-9030-4640-97b9-1637eb461f10",
   "metadata": {},
   "outputs": [],
   "source": [
    "# Compiling model\n",
    "model, base_model = build_model()\n",
    "model.compile(\n",
    "    optimizer=tf.keras.optimizers.Adam(1e-4),\n",
    "    loss='binary_crossentropy',\n",
    "    metrics=['accuracy', tf.keras.metrics.Precision(), tf.keras.metrics.Recall()]\n",
    ")\n",
    "\n"
   ]
  },
  {
   "cell_type": "code",
   "execution_count": 8,
   "id": "e75a3470-cfdc-48fb-a6bd-4a6e764bbc7d",
   "metadata": {},
   "outputs": [
    {
     "name": "stderr",
     "output_type": "stream",
     "text": [
      "C:\\Users\\Aanchal Gupta\\Desktop\\Knee X-ray Images\\imageclassification\\Lib\\site-packages\\keras\\src\\trainers\\data_adapters\\py_dataset_adapter.py:121: UserWarning: Your `PyDataset` class should call `super().__init__(**kwargs)` in its constructor. `**kwargs` can include `workers`, `use_multiprocessing`, `max_queue_size`. Do not pass these arguments to `fit()`, as they will be ignored.\n",
      "  self._warn_if_super_not_called()\n"
     ]
    },
    {
     "name": "stdout",
     "output_type": "stream",
     "text": [
      "Epoch 1/10\n",
      "\u001b[1m122/122\u001b[0m \u001b[32m━━━━━━━━━━━━━━━━━━━━\u001b[0m\u001b[37m\u001b[0m \u001b[1m172s\u001b[0m 1s/step - accuracy: 0.7639 - loss: 0.6078 - precision: 0.9507 - recall: 0.7781 - val_accuracy: 0.2576 - val_loss: 0.9885 - val_precision: 0.0000e+00 - val_recall: 0.0000e+00\n",
      "Epoch 2/10\n",
      "\u001b[1m122/122\u001b[0m \u001b[32m━━━━━━━━━━━━━━━━━━━━\u001b[0m\u001b[37m\u001b[0m \u001b[1m181s\u001b[0m 1s/step - accuracy: 0.8514 - loss: 0.3509 - precision: 0.9848 - recall: 0.8475 - val_accuracy: 0.8760 - val_loss: 0.6040 - val_precision: 0.9709 - val_recall: 0.8586\n",
      "Epoch 3/10\n",
      "\u001b[1m122/122\u001b[0m \u001b[32m━━━━━━━━━━━━━━━━━━━━\u001b[0m\u001b[37m\u001b[0m \u001b[1m191s\u001b[0m 2s/step - accuracy: 0.8587 - loss: 0.2959 - precision: 0.9880 - recall: 0.8531 - val_accuracy: 0.8950 - val_loss: 0.4092 - val_precision: 0.9053 - val_recall: 0.9589\n",
      "Epoch 4/10\n",
      "\u001b[1m122/122\u001b[0m \u001b[32m━━━━━━━━━━━━━━━━━━━━\u001b[0m\u001b[37m\u001b[0m \u001b[1m176s\u001b[0m 1s/step - accuracy: 0.8560 - loss: 0.2806 - precision: 0.9875 - recall: 0.8510 - val_accuracy: 0.9122 - val_loss: 0.2769 - val_precision: 0.9432 - val_recall: 0.9383\n",
      "Epoch 5/10\n",
      "\u001b[1m122/122\u001b[0m \u001b[32m━━━━━━━━━━━━━━━━━━━━\u001b[0m\u001b[37m\u001b[0m \u001b[1m180s\u001b[0m 1s/step - accuracy: 0.8801 - loss: 0.2680 - precision: 0.9914 - recall: 0.8744 - val_accuracy: 0.9103 - val_loss: 0.2430 - val_precision: 0.9777 - val_recall: 0.8997\n",
      "Epoch 6/10\n",
      "\u001b[1m122/122\u001b[0m \u001b[32m━━━━━━━━━━━━━━━━━━━━\u001b[0m\u001b[37m\u001b[0m \u001b[1m199s\u001b[0m 2s/step - accuracy: 0.8849 - loss: 0.2574 - precision: 0.9887 - recall: 0.8812 - val_accuracy: 0.9008 - val_loss: 0.2293 - val_precision: 0.9801 - val_recall: 0.8843\n",
      "Epoch 7/10\n",
      "\u001b[1m122/122\u001b[0m \u001b[32m━━━━━━━━━━━━━━━━━━━━\u001b[0m\u001b[37m\u001b[0m \u001b[1m170s\u001b[0m 1s/step - accuracy: 0.8818 - loss: 0.2622 - precision: 0.9899 - recall: 0.8779 - val_accuracy: 0.8969 - val_loss: 0.2308 - val_precision: 0.9827 - val_recall: 0.8766\n",
      "Epoch 8/10\n",
      "\u001b[1m122/122\u001b[0m \u001b[32m━━━━━━━━━━━━━━━━━━━━\u001b[0m\u001b[37m\u001b[0m \u001b[1m178s\u001b[0m 1s/step - accuracy: 0.8948 - loss: 0.2280 - precision: 0.9917 - recall: 0.8905 - val_accuracy: 0.9179 - val_loss: 0.1986 - val_precision: 0.9806 - val_recall: 0.9075\n",
      "Epoch 9/10\n",
      "\u001b[1m122/122\u001b[0m \u001b[32m━━━━━━━━━━━━━━━━━━━━\u001b[0m\u001b[37m\u001b[0m \u001b[1m184s\u001b[0m 2s/step - accuracy: 0.9013 - loss: 0.2359 - precision: 0.9904 - recall: 0.8990 - val_accuracy: 0.9218 - val_loss: 0.1897 - val_precision: 0.9833 - val_recall: 0.9100\n",
      "Epoch 10/10\n",
      "\u001b[1m122/122\u001b[0m \u001b[32m━━━━━━━━━━━━━━━━━━━━\u001b[0m\u001b[37m\u001b[0m \u001b[1m190s\u001b[0m 2s/step - accuracy: 0.9072 - loss: 0.2429 - precision: 0.9883 - recall: 0.9071 - val_accuracy: 0.9008 - val_loss: 0.2042 - val_precision: 0.9828 - val_recall: 0.8817\n",
      "Epoch 1/10\n",
      "\u001b[1m122/122\u001b[0m \u001b[32m━━━━━━━━━━━━━━━━━━━━\u001b[0m\u001b[37m\u001b[0m \u001b[1m233s\u001b[0m 2s/step - accuracy: 0.9140 - loss: 0.2344 - precision_1: 0.9884 - recall_1: 0.9153 - val_accuracy: 0.8263 - val_loss: 0.3930 - val_precision_1: 0.9934 - val_recall_1: 0.7712\n",
      "Epoch 2/10\n",
      "\u001b[1m122/122\u001b[0m \u001b[32m━━━━━━━━━━━━━━━━━━━━\u001b[0m\u001b[37m\u001b[0m \u001b[1m228s\u001b[0m 2s/step - accuracy: 0.9103 - loss: 0.2098 - precision_1: 0.9921 - recall_1: 0.9079 - val_accuracy: 0.7424 - val_loss: 3.2159 - val_precision_1: 0.7424 - val_recall_1: 1.0000\n",
      "Epoch 3/10\n",
      "\u001b[1m122/122\u001b[0m \u001b[32m━━━━━━━━━━━━━━━━━━━━\u001b[0m\u001b[37m\u001b[0m \u001b[1m292s\u001b[0m 2s/step - accuracy: 0.9018 - loss: 0.1958 - precision_1: 0.9941 - recall_1: 0.8967 - val_accuracy: 0.7424 - val_loss: 8.1687 - val_precision_1: 0.7424 - val_recall_1: 1.0000\n",
      "Epoch 4/10\n",
      "\u001b[1m122/122\u001b[0m \u001b[32m━━━━━━━━━━━━━━━━━━━━\u001b[0m\u001b[37m\u001b[0m \u001b[1m361s\u001b[0m 3s/step - accuracy: 0.9149 - loss: 0.2077 - precision_1: 0.9940 - recall_1: 0.9103 - val_accuracy: 0.8378 - val_loss: 0.2852 - val_precision_1: 0.8207 - val_recall_1: 1.0000\n",
      "Epoch 5/10\n",
      "\u001b[1m122/122\u001b[0m \u001b[32m━━━━━━━━━━━━━━━━━━━━\u001b[0m\u001b[37m\u001b[0m \u001b[1m371s\u001b[0m 3s/step - accuracy: 0.9099 - loss: 0.2144 - precision_1: 0.9905 - recall_1: 0.9091 - val_accuracy: 0.9504 - val_loss: 0.1475 - val_precision_1: 0.9549 - val_recall_1: 0.9794\n",
      "Epoch 6/10\n",
      "\u001b[1m122/122\u001b[0m \u001b[32m━━━━━━━━━━━━━━━━━━━━\u001b[0m\u001b[37m\u001b[0m \u001b[1m354s\u001b[0m 3s/step - accuracy: 0.9163 - loss: 0.1970 - precision_1: 0.9932 - recall_1: 0.9142 - val_accuracy: 0.8893 - val_loss: 0.2774 - val_precision_1: 0.9970 - val_recall_1: 0.8535\n",
      "Epoch 7/10\n",
      "\u001b[1m122/122\u001b[0m \u001b[32m━━━━━━━━━━━━━━━━━━━━\u001b[0m\u001b[37m\u001b[0m \u001b[1m349s\u001b[0m 3s/step - accuracy: 0.9080 - loss: 0.1727 - precision_1: 0.9953 - recall_1: 0.9020 - val_accuracy: 0.7424 - val_loss: 8.1261 - val_precision_1: 0.7424 - val_recall_1: 1.0000\n",
      "Epoch 8/10\n",
      "\u001b[1m122/122\u001b[0m \u001b[32m━━━━━━━━━━━━━━━━━━━━\u001b[0m\u001b[37m\u001b[0m \u001b[1m298s\u001b[0m 2s/step - accuracy: 0.9184 - loss: 0.1841 - precision_1: 0.9934 - recall_1: 0.9159 - val_accuracy: 0.7634 - val_loss: 0.7219 - val_precision_1: 0.7583 - val_recall_1: 1.0000\n"
     ]
    }
   ],
   "source": [
    "# Training initial model (feature extraction phase)\n",
    "history = model.fit(\n",
    "    train_generator,\n",
    "    validation_data=val_generator,\n",
    "    epochs=10,\n",
    "    class_weight=class_weights,\n",
    "    callbacks=[tf.keras.callbacks.EarlyStopping(patience=3, restore_best_weights=True)]\n",
    ")\n",
    "\n",
    "# Fine-tuning: unfreeze last 30 layers\n",
    "for layer in base_model.layers[-30:]:\n",
    "    if not isinstance(layer, tf.keras.layers.BatchNormalization):\n",
    "        layer.trainable = True\n",
    "\n",
    "model.compile(\n",
    "    optimizer=tf.keras.optimizers.Adam(1e-5),\n",
    "    loss='binary_crossentropy',\n",
    "    metrics=['accuracy', tf.keras.metrics.Precision(), tf.keras.metrics.Recall()]\n",
    ")\n",
    "\n",
    "# Training fine-tuned model\n",
    "history_fine = model.fit(\n",
    "    train_generator,\n",
    "    validation_data=val_generator,\n",
    "    epochs=10,\n",
    "    class_weight=class_weights,\n",
    "    callbacks=[tf.keras.callbacks.EarlyStopping(patience=3, restore_best_weights=True)]\n",
    ")\n"
   ]
  },
  {
   "cell_type": "code",
   "execution_count": 9,
   "id": "3f7276bb-ee8a-4984-83a9-61a267d4df49",
   "metadata": {},
   "outputs": [
    {
     "name": "stdout",
     "output_type": "stream",
     "text": [
      "\u001b[1m20/20\u001b[0m \u001b[32m━━━━━━━━━━━━━━━━━━━━\u001b[0m\u001b[37m\u001b[0m \u001b[1m25s\u001b[0m 1s/step\n",
      "\n",
      "Classification Report:\n",
      "              precision    recall  f1-score   support\n",
      "\n",
      "      Normal       0.98      0.60      0.74       234\n",
      "   Pneumonia       0.80      0.99      0.89       390\n",
      "\n",
      "    accuracy                           0.84       624\n",
      "   macro avg       0.89      0.80      0.82       624\n",
      "weighted avg       0.87      0.84      0.83       624\n",
      "\n",
      "\n",
      "Confusion Matrix:\n",
      "[[140  94]\n",
      " [  3 387]]\n"
     ]
    }
   ],
   "source": [
    "# Evaluation on test set\n",
    "test_preds = model.predict(test_images)\n",
    "test_preds_binary = (test_preds > 0.5).astype(int)\n",
    "\n",
    "# Classification report\n",
    "print(\"\\nClassification Report:\")\n",
    "print(classification_report(test_labels, test_preds_binary, target_names=[\"Normal\", \"Pneumonia\"]))\n",
    "\n",
    "# Confusion Matrix\n",
    "cm = confusion_matrix(test_labels, test_preds_binary)\n",
    "print(\"\\nConfusion Matrix:\")\n",
    "print(cm)\n",
    "\n"
   ]
  },
  {
   "cell_type": "code",
   "execution_count": 11,
   "id": "390ce1cf-f3ca-4697-9c86-65ce826a7f81",
   "metadata": {},
   "outputs": [
    {
     "data": {
      "image/png": "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",
      "text/plain": [
       "<Figure size 600x500 with 2 Axes>"
      ]
     },
     "metadata": {},
     "output_type": "display_data"
    }
   ],
   "source": [
    "import matplotlib.pyplot as plt\n",
    "import seaborn as sns\n",
    "import numpy as np\n",
    "\n",
    "# Confusion matrix array\n",
    "cm = np.array([[140, 94],\n",
    "               [3, 387]])\n",
    "\n",
    "# Class labels\n",
    "classes = ['Normal', 'Pneumonia']\n",
    "\n",
    "plt.figure(figsize=(6,5))\n",
    "sns.heatmap(cm, annot=True, fmt='d', cmap='Blues', xticklabels=classes, yticklabels=classes)\n",
    "\n",
    "plt.xlabel('Predicted Label')\n",
    "plt.ylabel('True Label')\n",
    "plt.title('Confusion Matrix')\n",
    "plt.show()\n"
   ]
  },
  {
   "cell_type": "code",
   "execution_count": 12,
   "id": "3fc75e85-dafe-4919-bfac-9eabb8bd4940",
   "metadata": {},
   "outputs": [
    {
     "name": "stderr",
     "output_type": "stream",
     "text": [
      "WARNING:absl:You are saving your model as an HDF5 file via `model.save()` or `keras.saving.save_model(model)`. This file format is considered legacy. We recommend using instead the native Keras format, e.g. `model.save('my_model.keras')` or `keras.saving.save_model(model, 'my_model.keras')`. \n"
     ]
    },
    {
     "name": "stdout",
     "output_type": "stream",
     "text": [
      "Model saved as resnet50_pneumonia.h5\n"
     ]
    }
   ],
   "source": [
    "\n",
    "model.save(\"resnet50_pneumonia.h5\")\n",
    "print(\"Model saved as resnet50_pneumonia.h5\")"
   ]
  },
  {
   "cell_type": "code",
   "execution_count": null,
   "id": "941bdd1a-c5fe-49bd-8155-185eb330db4a",
   "metadata": {},
   "outputs": [],
   "source": []
  }
 ],
 "metadata": {
  "kernelspec": {
   "display_name": "imageclassification",
   "language": "python",
   "name": "imageclassification"
  },
  "language_info": {
   "codemirror_mode": {
    "name": "ipython",
    "version": 3
   },
   "file_extension": ".py",
   "mimetype": "text/x-python",
   "name": "python",
   "nbconvert_exporter": "python",
   "pygments_lexer": "ipython3",
   "version": "3.12.2"
  }
 },
 "nbformat": 4,
 "nbformat_minor": 5
}
